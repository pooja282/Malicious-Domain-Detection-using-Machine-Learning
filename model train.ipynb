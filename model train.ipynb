{
 "cells": [
  {
   "cell_type": "code",
   "execution_count": 5,
   "id": "de750174",
   "metadata": {
    "is_executing": true,
    "tags": []
   },
   "outputs": [
    {
     "name": "stdout",
     "output_type": "stream",
     "text": [
      "Accuracy: 0.510975480705457\n",
      "Confusion Matrix:\n",
      "[[ 655992  899006]\n",
      " [ 741527 1058180]]\n",
      "Predicted Label: ['benign']\n"
     ]
    },
    {
     "data": {
      "text/plain": [
       "['logistic_regression_model.pkl']"
      ]
     },
     "execution_count": 5,
     "metadata": {},
     "output_type": "execute_result"
    }
   ],
   "source": [
    "import pandas as pd\n",
    "from sklearn.model_selection import train_test_split\n",
    "from sklearn.linear_model import LogisticRegression\n",
    "from sklearn.metrics import accuracy_score\n",
    "from sklearn.metrics import confusion_matrix\n",
    "import joblib\n",
    "\n",
    "# Step 1: Load the dataset containing benign domain names\n",
    "benign_df = pd.read_csv(\"benign_domains.csv\")  # Replace \"benign_domains.csv\" with the path to your benign dataset\n",
    "\n",
    "# Step 2: Load the dataset containing malicious domain names\n",
    "malicious_df = pd.read_csv(\"malicious_domains.csv\")  # Replace \"malicious_domains.csv\" with the path to your malicious dataset\n",
    "\n",
    "# Step 3: Combine the datasets\n",
    "combined_df = pd.concat([benign_df, malicious_df], ignore_index=True)\n",
    "\n",
    "# Step 4: Preprocess the data (if necessary)\n",
    "# Handle missing values by dropping rows with NaN values in the 'domain' column\n",
    "combined_df.dropna(subset=['domain'], inplace=True)\n",
    "\n",
    "# Step 5: Feature Extraction\n",
    "# For this example, we'll use the length of the domain name as a feature\n",
    "combined_df['domain_length'] = combined_df['domain'].apply(lambda x: len(str(x)))\n",
    "\n",
    "# Step 6: Split Data into Training and Testing Sets\n",
    "X = combined_df[['domain_length']]\n",
    "y = combined_df['label']\n",
    "X_train, X_test, y_train, y_test = train_test_split(X, y, test_size=0.2, random_state=42)\n",
    "\n",
    "# Step 7: Choose a Machine Learning Algorithm\n",
    "model = LogisticRegression()\n",
    "\n",
    "# Step 8: Train the Model\n",
    "model.fit(X_train, y_train)\n",
    "\n",
    "# Step 9: Evaluate the Model\n",
    "y_pred = model.predict(X_test)\n",
    "accuracy = accuracy_score(y_test, y_pred)\n",
    "print(\"Accuracy:\", accuracy)\n",
    "\n",
    "# Step 10 (continued): Evaluate the Model\n",
    "conf_matrix = confusion_matrix(y_test, y_pred)\n",
    "print(\"Confusion Matrix:\")\n",
    "print(conf_matrix)\n",
    "\n",
    "# Step 11: Make Predictions\n",
    "# For example, predict the label for a new domain name\n",
    "new_domain_length = 10\n",
    "predicted_label = model.predict([[new_domain_length]])\n",
    "print(\"Predicted Label:\", predicted_label)\n",
    "\n",
    "# Step 10: Save the Trained Model\n",
    "joblib.dump(model, 'logistic_regression_model.pkl')\n",
    "\n"
   ]
  },
  {
   "cell_type": "code",
   "execution_count": 4,
   "id": "06609a48-8d2c-4952-b28f-d96bedd49ac3",
   "metadata": {},
   "outputs": [
    {
     "name": "stdout",
     "output_type": "stream",
     "text": [
      "Accuracy: 0.6384287142982766\n",
      "Confusion Matrix:\n",
      "[[ 947344  607654]\n",
      " [ 605311 1194396]]\n"
     ]
    },
    {
     "data": {
      "text/plain": [
       "['gradient_boosting_model.pkl']"
      ]
     },
     "execution_count": 4,
     "metadata": {},
     "output_type": "execute_result"
    }
   ],
   "source": [
    "import pandas as pd\n",
    "from sklearn.model_selection import train_test_split\n",
    "from sklearn.ensemble import GradientBoostingClassifier\n",
    "from sklearn.metrics import accuracy_score\n",
    "from sklearn.metrics import confusion_matrix\n",
    "import joblib\n",
    "\n",
    "# Step 1: Load the dataset containing benign domain names\n",
    "benign_df = pd.read_csv(\"benign_domains.csv\")\n",
    "\n",
    "# Step 2: Load the dataset containing malicious domain names\n",
    "malicious_df = pd.read_csv(\"malicious_domains.csv\")\n",
    "\n",
    "# Step 3: Combine the datasets\n",
    "combined_df = pd.concat([benign_df, malicious_df], ignore_index=True)\n",
    "\n",
    "# Step 4: Preprocess the data (if necessary)\n",
    "combined_df.dropna(subset=['domain'], inplace=True)\n",
    "\n",
    "# Step 5: Feature Extraction\n",
    "combined_df['domain_length'] = combined_df['domain'].apply(lambda x: len(str(x)))\n",
    "\n",
    "# Step 6: Split Data into Training and Testing Sets\n",
    "X = combined_df[['domain_length']]\n",
    "y = combined_df['label']\n",
    "X_train, X_test, y_train, y_test = train_test_split(X, y, test_size=0.2, random_state=42)\n",
    "\n",
    "# Step 7: Choose a Machine Learning Algorithm (Gradient Boosting)\n",
    "model = GradientBoostingClassifier()\n",
    "\n",
    "# Step 8: Train the Model\n",
    "model.fit(X_train, y_train)\n",
    "\n",
    "# Step 9: Evaluate the Model\n",
    "y_pred = model.predict(X_test)\n",
    "accuracy = accuracy_score(y_test, y_pred)\n",
    "print(\"Accuracy:\", accuracy)\n",
    "\n",
    "# Step 10 (continued): Evaluate the Model\n",
    "conf_matrix = confusion_matrix(y_test, y_pred)\n",
    "print(\"Confusion Matrix:\")\n",
    "print(conf_matrix)\n",
    "\n",
    "# Step 11: Save the Trained Model\n",
    "joblib.dump(model, 'gradient_boosting_model.pkl')\n"
   ]
  },
  {
   "cell_type": "code",
   "execution_count": null,
   "id": "bf75c410-f17c-40c6-b948-ebfe21a79176",
   "metadata": {},
   "outputs": [],
   "source": []
  }
 ],
 "metadata": {
  "kernelspec": {
   "display_name": "Python 3 (ipykernel)",
   "language": "python",
   "name": "python3"
  },
  "language_info": {
   "codemirror_mode": {
    "name": "ipython",
    "version": 3
   },
   "file_extension": ".py",
   "mimetype": "text/x-python",
   "name": "python",
   "nbconvert_exporter": "python",
   "pygments_lexer": "ipython3",
   "version": "3.11.5"
  }
 },
 "nbformat": 4,
 "nbformat_minor": 5
}
